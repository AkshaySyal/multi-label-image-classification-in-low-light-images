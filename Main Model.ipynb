{
 "cells": [
  {
   "cell_type": "code",
   "execution_count": 1,
   "id": "e9d9ad17",
   "metadata": {},
   "outputs": [],
   "source": [
    "import pandas as pd\n",
    "import numpy as np\n",
    "import matplotlib.pyplot as plt\n",
    "import seaborn as sns\n",
    "import os\n",
    "from matplotlib.image import imread\n",
    "import math\n",
    "import cv2\n",
    "import keras\n",
    "from tensorflow.keras.preprocessing.image import ImageDataGenerator"
   ]
  },
  {
   "cell_type": "code",
   "execution_count": 2,
   "id": "73bb1465",
   "metadata": {},
   "outputs": [],
   "source": [
    "from tensorflow.keras.models import load_model"
   ]
  },
  {
   "cell_type": "code",
   "execution_count": 3,
   "id": "ecc70f52",
   "metadata": {},
   "outputs": [],
   "source": [
    "autoencoder = load_model(\"Autoencoder v3.h5\")"
   ]
  },
  {
   "cell_type": "code",
   "execution_count": 4,
   "id": "f3f2b61a",
   "metadata": {},
   "outputs": [
    {
     "name": "stdout",
     "output_type": "stream",
     "text": [
      "Model: \"sequential_11\"\n",
      "_________________________________________________________________\n",
      "Layer (type)                 Output Shape              Param #   \n",
      "=================================================================\n",
      "sequential_7 (Sequential)    (None, 100, 100, 3)       931       \n",
      "_________________________________________________________________\n",
      "sequential_10 (Sequential)   (None, 400, 400, 1)       1983      \n",
      "=================================================================\n",
      "Total params: 2,914\n",
      "Trainable params: 2,914\n",
      "Non-trainable params: 0\n",
      "_________________________________________________________________\n"
     ]
    }
   ],
   "source": [
    "autoencoder.summary()"
   ]
  },
  {
   "cell_type": "code",
   "execution_count": 5,
   "id": "5a63b240",
   "metadata": {},
   "outputs": [
    {
     "data": {
      "text/plain": [
       "[<keras.engine.sequential.Sequential at 0x260a51fed68>,\n",
       " <keras.engine.sequential.Sequential at 0x260a5362780>]"
      ]
     },
     "execution_count": 5,
     "metadata": {},
     "output_type": "execute_result"
    }
   ],
   "source": [
    "autoencoder.layers"
   ]
  },
  {
   "cell_type": "code",
   "execution_count": 6,
   "id": "6cfb784b",
   "metadata": {},
   "outputs": [],
   "source": [
    "encoder = autoencoder.layers[0]"
   ]
  },
  {
   "cell_type": "code",
   "execution_count": 7,
   "id": "82a61910",
   "metadata": {},
   "outputs": [
    {
     "name": "stdout",
     "output_type": "stream",
     "text": [
      "Model: \"sequential_7\"\n",
      "_________________________________________________________________\n",
      "Layer (type)                 Output Shape              Param #   \n",
      "=================================================================\n",
      "conv2d_17 (Conv2D)           (None, 400, 400, 32)      544       \n",
      "_________________________________________________________________\n",
      "max_pooling2d_9 (MaxPooling2 (None, 200, 200, 32)      0         \n",
      "_________________________________________________________________\n",
      "conv2d_18 (Conv2D)           (None, 200, 200, 3)       387       \n",
      "_________________________________________________________________\n",
      "max_pooling2d_10 (MaxPooling (None, 100, 100, 3)       0         \n",
      "=================================================================\n",
      "Total params: 931\n",
      "Trainable params: 931\n",
      "Non-trainable params: 0\n",
      "_________________________________________________________________\n"
     ]
    }
   ],
   "source": [
    "encoder.summary()"
   ]
  },
  {
   "cell_type": "code",
   "execution_count": 8,
   "id": "c2918c1c",
   "metadata": {},
   "outputs": [],
   "source": [
    "train_df = pd.read_csv(\"training_labels_fixed_fn.csv\")"
   ]
  },
  {
   "cell_type": "code",
   "execution_count": 9,
   "id": "adb3d67c",
   "metadata": {},
   "outputs": [
    {
     "data": {
      "text/html": [
       "<div>\n",
       "<style scoped>\n",
       "    .dataframe tbody tr th:only-of-type {\n",
       "        vertical-align: middle;\n",
       "    }\n",
       "\n",
       "    .dataframe tbody tr th {\n",
       "        vertical-align: top;\n",
       "    }\n",
       "\n",
       "    .dataframe thead th {\n",
       "        text-align: right;\n",
       "    }\n",
       "</style>\n",
       "<table border=\"1\" class=\"dataframe\">\n",
       "  <thead>\n",
       "    <tr style=\"text-align: right;\">\n",
       "      <th></th>\n",
       "      <th>name</th>\n",
       "      <th>Bicycle</th>\n",
       "      <th>Boat</th>\n",
       "      <th>Bottle</th>\n",
       "      <th>Bus</th>\n",
       "      <th>Car</th>\n",
       "      <th>Cat</th>\n",
       "      <th>Chair</th>\n",
       "      <th>Cup</th>\n",
       "      <th>Dog</th>\n",
       "      <th>Motorbike</th>\n",
       "      <th>People</th>\n",
       "      <th>Table</th>\n",
       "    </tr>\n",
       "  </thead>\n",
       "  <tbody>\n",
       "    <tr>\n",
       "      <th>0</th>\n",
       "      <td>2015_00001.png</td>\n",
       "      <td>1</td>\n",
       "      <td>0</td>\n",
       "      <td>0</td>\n",
       "      <td>0</td>\n",
       "      <td>0</td>\n",
       "      <td>0</td>\n",
       "      <td>0</td>\n",
       "      <td>0</td>\n",
       "      <td>0</td>\n",
       "      <td>0</td>\n",
       "      <td>0</td>\n",
       "      <td>0</td>\n",
       "    </tr>\n",
       "    <tr>\n",
       "      <th>1</th>\n",
       "      <td>2015_00002.png</td>\n",
       "      <td>1</td>\n",
       "      <td>0</td>\n",
       "      <td>0</td>\n",
       "      <td>0</td>\n",
       "      <td>1</td>\n",
       "      <td>0</td>\n",
       "      <td>0</td>\n",
       "      <td>0</td>\n",
       "      <td>0</td>\n",
       "      <td>0</td>\n",
       "      <td>0</td>\n",
       "      <td>0</td>\n",
       "    </tr>\n",
       "    <tr>\n",
       "      <th>2</th>\n",
       "      <td>2015_00003.png</td>\n",
       "      <td>1</td>\n",
       "      <td>0</td>\n",
       "      <td>0</td>\n",
       "      <td>1</td>\n",
       "      <td>0</td>\n",
       "      <td>0</td>\n",
       "      <td>1</td>\n",
       "      <td>0</td>\n",
       "      <td>0</td>\n",
       "      <td>0</td>\n",
       "      <td>0</td>\n",
       "      <td>0</td>\n",
       "    </tr>\n",
       "    <tr>\n",
       "      <th>3</th>\n",
       "      <td>2015_00004.jpg</td>\n",
       "      <td>1</td>\n",
       "      <td>0</td>\n",
       "      <td>0</td>\n",
       "      <td>0</td>\n",
       "      <td>0</td>\n",
       "      <td>0</td>\n",
       "      <td>0</td>\n",
       "      <td>0</td>\n",
       "      <td>0</td>\n",
       "      <td>0</td>\n",
       "      <td>0</td>\n",
       "      <td>0</td>\n",
       "    </tr>\n",
       "    <tr>\n",
       "      <th>4</th>\n",
       "      <td>2015_00005.jpg</td>\n",
       "      <td>1</td>\n",
       "      <td>0</td>\n",
       "      <td>0</td>\n",
       "      <td>0</td>\n",
       "      <td>0</td>\n",
       "      <td>0</td>\n",
       "      <td>0</td>\n",
       "      <td>0</td>\n",
       "      <td>0</td>\n",
       "      <td>0</td>\n",
       "      <td>0</td>\n",
       "      <td>0</td>\n",
       "    </tr>\n",
       "    <tr>\n",
       "      <th>...</th>\n",
       "      <td>...</td>\n",
       "      <td>...</td>\n",
       "      <td>...</td>\n",
       "      <td>...</td>\n",
       "      <td>...</td>\n",
       "      <td>...</td>\n",
       "      <td>...</td>\n",
       "      <td>...</td>\n",
       "      <td>...</td>\n",
       "      <td>...</td>\n",
       "      <td>...</td>\n",
       "      <td>...</td>\n",
       "      <td>...</td>\n",
       "    </tr>\n",
       "    <tr>\n",
       "      <th>5883</th>\n",
       "      <td>2015_07251.jpg</td>\n",
       "      <td>0</td>\n",
       "      <td>0</td>\n",
       "      <td>0</td>\n",
       "      <td>0</td>\n",
       "      <td>0</td>\n",
       "      <td>0</td>\n",
       "      <td>1</td>\n",
       "      <td>0</td>\n",
       "      <td>0</td>\n",
       "      <td>0</td>\n",
       "      <td>1</td>\n",
       "      <td>1</td>\n",
       "    </tr>\n",
       "    <tr>\n",
       "      <th>5884</th>\n",
       "      <td>2015_07252.jpg</td>\n",
       "      <td>0</td>\n",
       "      <td>0</td>\n",
       "      <td>0</td>\n",
       "      <td>0</td>\n",
       "      <td>0</td>\n",
       "      <td>0</td>\n",
       "      <td>0</td>\n",
       "      <td>0</td>\n",
       "      <td>0</td>\n",
       "      <td>0</td>\n",
       "      <td>0</td>\n",
       "      <td>1</td>\n",
       "    </tr>\n",
       "    <tr>\n",
       "      <th>5885</th>\n",
       "      <td>2015_07253.jpg</td>\n",
       "      <td>0</td>\n",
       "      <td>0</td>\n",
       "      <td>0</td>\n",
       "      <td>0</td>\n",
       "      <td>0</td>\n",
       "      <td>0</td>\n",
       "      <td>1</td>\n",
       "      <td>0</td>\n",
       "      <td>0</td>\n",
       "      <td>0</td>\n",
       "      <td>0</td>\n",
       "      <td>1</td>\n",
       "    </tr>\n",
       "    <tr>\n",
       "      <th>5886</th>\n",
       "      <td>2015_07254.jpg</td>\n",
       "      <td>0</td>\n",
       "      <td>0</td>\n",
       "      <td>0</td>\n",
       "      <td>0</td>\n",
       "      <td>0</td>\n",
       "      <td>0</td>\n",
       "      <td>1</td>\n",
       "      <td>0</td>\n",
       "      <td>0</td>\n",
       "      <td>0</td>\n",
       "      <td>0</td>\n",
       "      <td>1</td>\n",
       "    </tr>\n",
       "    <tr>\n",
       "      <th>5887</th>\n",
       "      <td>2015_07255.jpg</td>\n",
       "      <td>0</td>\n",
       "      <td>0</td>\n",
       "      <td>0</td>\n",
       "      <td>0</td>\n",
       "      <td>0</td>\n",
       "      <td>0</td>\n",
       "      <td>1</td>\n",
       "      <td>0</td>\n",
       "      <td>0</td>\n",
       "      <td>0</td>\n",
       "      <td>0</td>\n",
       "      <td>1</td>\n",
       "    </tr>\n",
       "  </tbody>\n",
       "</table>\n",
       "<p>5888 rows × 13 columns</p>\n",
       "</div>"
      ],
      "text/plain": [
       "                name  Bicycle  Boat  Bottle  Bus  Car  Cat  Chair  Cup  Dog  \\\n",
       "0     2015_00001.png        1     0       0    0    0    0      0    0    0   \n",
       "1     2015_00002.png        1     0       0    0    1    0      0    0    0   \n",
       "2     2015_00003.png        1     0       0    1    0    0      1    0    0   \n",
       "3     2015_00004.jpg        1     0       0    0    0    0      0    0    0   \n",
       "4     2015_00005.jpg        1     0       0    0    0    0      0    0    0   \n",
       "...              ...      ...   ...     ...  ...  ...  ...    ...  ...  ...   \n",
       "5883  2015_07251.jpg        0     0       0    0    0    0      1    0    0   \n",
       "5884  2015_07252.jpg        0     0       0    0    0    0      0    0    0   \n",
       "5885  2015_07253.jpg        0     0       0    0    0    0      1    0    0   \n",
       "5886  2015_07254.jpg        0     0       0    0    0    0      1    0    0   \n",
       "5887  2015_07255.jpg        0     0       0    0    0    0      1    0    0   \n",
       "\n",
       "      Motorbike  People  Table  \n",
       "0             0       0      0  \n",
       "1             0       0      0  \n",
       "2             0       0      0  \n",
       "3             0       0      0  \n",
       "4             0       0      0  \n",
       "...         ...     ...    ...  \n",
       "5883          0       1      1  \n",
       "5884          0       0      1  \n",
       "5885          0       0      1  \n",
       "5886          0       0      1  \n",
       "5887          0       0      1  \n",
       "\n",
       "[5888 rows x 13 columns]"
      ]
     },
     "execution_count": 9,
     "metadata": {},
     "output_type": "execute_result"
    }
   ],
   "source": [
    "train_df"
   ]
  },
  {
   "cell_type": "code",
   "execution_count": 10,
   "id": "fe64f700",
   "metadata": {},
   "outputs": [],
   "source": [
    "test_df = pd.read_csv(\"testing_labels_fixed_fn.csv\")"
   ]
  },
  {
   "cell_type": "code",
   "execution_count": 11,
   "id": "e017d48e",
   "metadata": {},
   "outputs": [
    {
     "data": {
      "text/html": [
       "<div>\n",
       "<style scoped>\n",
       "    .dataframe tbody tr th:only-of-type {\n",
       "        vertical-align: middle;\n",
       "    }\n",
       "\n",
       "    .dataframe tbody tr th {\n",
       "        vertical-align: top;\n",
       "    }\n",
       "\n",
       "    .dataframe thead th {\n",
       "        text-align: right;\n",
       "    }\n",
       "</style>\n",
       "<table border=\"1\" class=\"dataframe\">\n",
       "  <thead>\n",
       "    <tr style=\"text-align: right;\">\n",
       "      <th></th>\n",
       "      <th>name</th>\n",
       "      <th>Bicycle</th>\n",
       "      <th>Boat</th>\n",
       "      <th>Bottle</th>\n",
       "      <th>Bus</th>\n",
       "      <th>Car</th>\n",
       "      <th>Cat</th>\n",
       "      <th>Chair</th>\n",
       "      <th>Cup</th>\n",
       "      <th>Dog</th>\n",
       "      <th>Motorbike</th>\n",
       "      <th>People</th>\n",
       "      <th>Table</th>\n",
       "    </tr>\n",
       "  </thead>\n",
       "  <tbody>\n",
       "    <tr>\n",
       "      <th>0</th>\n",
       "      <td>2015_00523.jpg</td>\n",
       "      <td>1</td>\n",
       "      <td>0</td>\n",
       "      <td>0</td>\n",
       "      <td>0</td>\n",
       "      <td>0</td>\n",
       "      <td>0</td>\n",
       "      <td>0</td>\n",
       "      <td>0</td>\n",
       "      <td>0</td>\n",
       "      <td>0</td>\n",
       "      <td>0</td>\n",
       "      <td>0</td>\n",
       "    </tr>\n",
       "    <tr>\n",
       "      <th>1</th>\n",
       "      <td>2015_00524.jpg</td>\n",
       "      <td>1</td>\n",
       "      <td>0</td>\n",
       "      <td>0</td>\n",
       "      <td>0</td>\n",
       "      <td>1</td>\n",
       "      <td>0</td>\n",
       "      <td>0</td>\n",
       "      <td>0</td>\n",
       "      <td>0</td>\n",
       "      <td>0</td>\n",
       "      <td>0</td>\n",
       "      <td>0</td>\n",
       "    </tr>\n",
       "    <tr>\n",
       "      <th>2</th>\n",
       "      <td>2015_00525.jpg</td>\n",
       "      <td>1</td>\n",
       "      <td>0</td>\n",
       "      <td>0</td>\n",
       "      <td>0</td>\n",
       "      <td>0</td>\n",
       "      <td>0</td>\n",
       "      <td>0</td>\n",
       "      <td>0</td>\n",
       "      <td>0</td>\n",
       "      <td>0</td>\n",
       "      <td>0</td>\n",
       "      <td>0</td>\n",
       "    </tr>\n",
       "    <tr>\n",
       "      <th>3</th>\n",
       "      <td>2015_00526.jpg</td>\n",
       "      <td>1</td>\n",
       "      <td>0</td>\n",
       "      <td>0</td>\n",
       "      <td>0</td>\n",
       "      <td>0</td>\n",
       "      <td>0</td>\n",
       "      <td>0</td>\n",
       "      <td>0</td>\n",
       "      <td>0</td>\n",
       "      <td>0</td>\n",
       "      <td>0</td>\n",
       "      <td>0</td>\n",
       "    </tr>\n",
       "    <tr>\n",
       "      <th>4</th>\n",
       "      <td>2015_00527.jpg</td>\n",
       "      <td>1</td>\n",
       "      <td>0</td>\n",
       "      <td>0</td>\n",
       "      <td>0</td>\n",
       "      <td>0</td>\n",
       "      <td>0</td>\n",
       "      <td>0</td>\n",
       "      <td>0</td>\n",
       "      <td>0</td>\n",
       "      <td>0</td>\n",
       "      <td>1</td>\n",
       "      <td>0</td>\n",
       "    </tr>\n",
       "    <tr>\n",
       "      <th>...</th>\n",
       "      <td>...</td>\n",
       "      <td>...</td>\n",
       "      <td>...</td>\n",
       "      <td>...</td>\n",
       "      <td>...</td>\n",
       "      <td>...</td>\n",
       "      <td>...</td>\n",
       "      <td>...</td>\n",
       "      <td>...</td>\n",
       "      <td>...</td>\n",
       "      <td>...</td>\n",
       "      <td>...</td>\n",
       "      <td>...</td>\n",
       "    </tr>\n",
       "    <tr>\n",
       "      <th>1465</th>\n",
       "      <td>2015_07352.png</td>\n",
       "      <td>0</td>\n",
       "      <td>0</td>\n",
       "      <td>0</td>\n",
       "      <td>0</td>\n",
       "      <td>0</td>\n",
       "      <td>0</td>\n",
       "      <td>1</td>\n",
       "      <td>0</td>\n",
       "      <td>0</td>\n",
       "      <td>0</td>\n",
       "      <td>1</td>\n",
       "      <td>1</td>\n",
       "    </tr>\n",
       "    <tr>\n",
       "      <th>1466</th>\n",
       "      <td>2015_07353.png</td>\n",
       "      <td>0</td>\n",
       "      <td>0</td>\n",
       "      <td>0</td>\n",
       "      <td>0</td>\n",
       "      <td>0</td>\n",
       "      <td>0</td>\n",
       "      <td>0</td>\n",
       "      <td>0</td>\n",
       "      <td>0</td>\n",
       "      <td>0</td>\n",
       "      <td>1</td>\n",
       "      <td>1</td>\n",
       "    </tr>\n",
       "    <tr>\n",
       "      <th>1467</th>\n",
       "      <td>2015_07354.jpg</td>\n",
       "      <td>0</td>\n",
       "      <td>0</td>\n",
       "      <td>0</td>\n",
       "      <td>0</td>\n",
       "      <td>0</td>\n",
       "      <td>0</td>\n",
       "      <td>0</td>\n",
       "      <td>0</td>\n",
       "      <td>0</td>\n",
       "      <td>0</td>\n",
       "      <td>1</td>\n",
       "      <td>1</td>\n",
       "    </tr>\n",
       "    <tr>\n",
       "      <th>1468</th>\n",
       "      <td>2015_07355.jpg</td>\n",
       "      <td>0</td>\n",
       "      <td>0</td>\n",
       "      <td>0</td>\n",
       "      <td>0</td>\n",
       "      <td>0</td>\n",
       "      <td>0</td>\n",
       "      <td>1</td>\n",
       "      <td>0</td>\n",
       "      <td>0</td>\n",
       "      <td>0</td>\n",
       "      <td>0</td>\n",
       "      <td>1</td>\n",
       "    </tr>\n",
       "    <tr>\n",
       "      <th>1469</th>\n",
       "      <td>2017_07358.jpg</td>\n",
       "      <td>0</td>\n",
       "      <td>0</td>\n",
       "      <td>0</td>\n",
       "      <td>0</td>\n",
       "      <td>0</td>\n",
       "      <td>0</td>\n",
       "      <td>1</td>\n",
       "      <td>0</td>\n",
       "      <td>0</td>\n",
       "      <td>0</td>\n",
       "      <td>0</td>\n",
       "      <td>1</td>\n",
       "    </tr>\n",
       "  </tbody>\n",
       "</table>\n",
       "<p>1470 rows × 13 columns</p>\n",
       "</div>"
      ],
      "text/plain": [
       "                name  Bicycle  Boat  Bottle  Bus  Car  Cat  Chair  Cup  Dog  \\\n",
       "0     2015_00523.jpg        1     0       0    0    0    0      0    0    0   \n",
       "1     2015_00524.jpg        1     0       0    0    1    0      0    0    0   \n",
       "2     2015_00525.jpg        1     0       0    0    0    0      0    0    0   \n",
       "3     2015_00526.jpg        1     0       0    0    0    0      0    0    0   \n",
       "4     2015_00527.jpg        1     0       0    0    0    0      0    0    0   \n",
       "...              ...      ...   ...     ...  ...  ...  ...    ...  ...  ...   \n",
       "1465  2015_07352.png        0     0       0    0    0    0      1    0    0   \n",
       "1466  2015_07353.png        0     0       0    0    0    0      0    0    0   \n",
       "1467  2015_07354.jpg        0     0       0    0    0    0      0    0    0   \n",
       "1468  2015_07355.jpg        0     0       0    0    0    0      1    0    0   \n",
       "1469  2017_07358.jpg        0     0       0    0    0    0      1    0    0   \n",
       "\n",
       "      Motorbike  People  Table  \n",
       "0             0       0      0  \n",
       "1             0       0      0  \n",
       "2             0       0      0  \n",
       "3             0       0      0  \n",
       "4             0       1      0  \n",
       "...         ...     ...    ...  \n",
       "1465          0       1      1  \n",
       "1466          0       1      1  \n",
       "1467          0       1      1  \n",
       "1468          0       0      1  \n",
       "1469          0       0      1  \n",
       "\n",
       "[1470 rows x 13 columns]"
      ]
     },
     "execution_count": 11,
     "metadata": {},
     "output_type": "execute_result"
    }
   ],
   "source": [
    "test_df"
   ]
  },
  {
   "cell_type": "code",
   "execution_count": 12,
   "id": "4bdbfeab",
   "metadata": {},
   "outputs": [],
   "source": [
    "columns = ['Bicycle', 'Boat', 'Bottle', 'Bus', 'Car', \n",
    "           'Cat', 'Chair','Cup', 'Dog', 'Motorbike', 'People', 'Table']"
   ]
  },
  {
   "cell_type": "code",
   "execution_count": 13,
   "id": "3d2b0cfa",
   "metadata": {},
   "outputs": [],
   "source": [
    "# Image Data Generator"
   ]
  },
  {
   "cell_type": "code",
   "execution_count": 14,
   "id": "e1fe7b7b",
   "metadata": {},
   "outputs": [],
   "source": [
    "def preprocessing_fun(img):\n",
    "    img1 = img.astype('uint8')\n",
    "    eq_img = cv2.equalizeHist(img1)\n",
    "    return img"
   ]
  },
  {
   "cell_type": "code",
   "execution_count": 15,
   "id": "4510dcaa",
   "metadata": {},
   "outputs": [],
   "source": [
    "img_datagen = ImageDataGenerator(rescale=1./255,\n",
    "                                 preprocessing_function = preprocessing_fun,\n",
    "                                 horizontal_flip=True,\n",
    "                                 brightness_range=[0.8,1.5],\n",
    "                                 rotation_range=10)"
   ]
  },
  {
   "cell_type": "code",
   "execution_count": 16,
   "id": "b0816f11",
   "metadata": {},
   "outputs": [],
   "source": [
    "test_img_datagen = ImageDataGenerator(rescale=1./255,\n",
    "                                 preprocessing_function = preprocessing_fun)"
   ]
  },
  {
   "cell_type": "code",
   "execution_count": 17,
   "id": "74bd5a43",
   "metadata": {},
   "outputs": [],
   "source": [
    "data_dir = 'C:\\\\Users\\\\91882\\\\Desktop\\\\PA review 1\\\\ExDark\\\\Dataset For Model\\\\'"
   ]
  },
  {
   "cell_type": "code",
   "execution_count": 18,
   "id": "29ac40bf",
   "metadata": {},
   "outputs": [],
   "source": [
    "train_path = data_dir+'train\\\\'\n",
    "test_path = data_dir+'test\\\\'"
   ]
  },
  {
   "cell_type": "markdown",
   "id": "20bc3249",
   "metadata": {},
   "source": [
    "Reference for ImageDataGenerator: https://vijayabhaskar96.medium.com/multi-label-image-classification-tutorial-with-keras-imagedatagenerator-cd541f8eaf24"
   ]
  },
  {
   "cell_type": "code",
   "execution_count": 19,
   "id": "67a8da39",
   "metadata": {},
   "outputs": [
    {
     "name": "stdout",
     "output_type": "stream",
     "text": [
      "Found 5888 validated image filenames.\n"
     ]
    }
   ],
   "source": [
    "training_gen = img_datagen.flow_from_dataframe(dataframe=train_df,\n",
    "                                               directory=train_path,\n",
    "                                               x_col=\"name\",\n",
    "                                               y_col=columns,\n",
    "                                               target_size=(400,400),\n",
    "                                               color_mode='grayscale',\n",
    "                                               batch_size=16,\n",
    "                                               class_mode='raw',\n",
    "                                               shuffle=False,\n",
    "                                              validate_filenames=True)"
   ]
  },
  {
   "cell_type": "code",
   "execution_count": 20,
   "id": "63668409",
   "metadata": {},
   "outputs": [
    {
     "name": "stdout",
     "output_type": "stream",
     "text": [
      "Found 1470 validated image filenames.\n"
     ]
    }
   ],
   "source": [
    "testing_gen = test_img_datagen.flow_from_dataframe(dataframe=test_df,\n",
    "                                              directory=test_path,\n",
    "                                              x_col=\"name\",\n",
    "                                              y_col=columns,\n",
    "                                              target_size=(400,400),\n",
    "                                              color_mode='grayscale',\n",
    "                                              batch_size=16,\n",
    "                                              class_mode='raw',\n",
    "                                              shuffle=False,\n",
    "                                              validate_filenames=True\n",
    "                                             )"
   ]
  },
  {
   "cell_type": "code",
   "execution_count": 21,
   "id": "481f24bd",
   "metadata": {},
   "outputs": [],
   "source": [
    "# CNN Model"
   ]
  },
  {
   "cell_type": "code",
   "execution_count": 22,
   "id": "18149860",
   "metadata": {},
   "outputs": [],
   "source": [
    "from tensorflow.keras.models import Sequential"
   ]
  },
  {
   "cell_type": "code",
   "execution_count": 23,
   "id": "b0778bab",
   "metadata": {},
   "outputs": [],
   "source": [
    "from tensorflow.keras.layers import Conv2D, Dropout, MaxPooling2D,BatchNormalization,Activation,Flatten,Dense"
   ]
  },
  {
   "cell_type": "code",
   "execution_count": 24,
   "id": "bef4cdfa",
   "metadata": {},
   "outputs": [
    {
     "data": {
      "text/plain": [
       "TensorShape([100, 100, 3])"
      ]
     },
     "execution_count": 24,
     "metadata": {},
     "output_type": "execute_result"
    }
   ],
   "source": [
    "encoder.output.shape[1:]"
   ]
  },
  {
   "cell_type": "code",
   "execution_count": 25,
   "id": "5714b673",
   "metadata": {},
   "outputs": [],
   "source": [
    "cnn = Sequential()\n",
    "\n",
    "cnn.add(Conv2D(32, (3, 3), padding='same',input_shape=(100,100,3)))\n",
    "cnn.add(Activation('relu'))\n",
    "cnn.add(MaxPooling2D(pool_size=(2, 2)))\n",
    "\n",
    "cnn.add(Conv2D(32, (3, 3)))\n",
    "cnn.add(Activation('relu'))\n",
    "cnn.add(MaxPooling2D(pool_size=(2, 2)))\n",
    "cnn.add(BatchNormalization())\n",
    "\n",
    "cnn.add(Conv2D(64, (3, 3), padding='same'))\n",
    "cnn.add(Activation('relu'))\n",
    "cnn.add(MaxPooling2D(pool_size=(2, 2)))\n",
    "\n",
    "cnn.add(Conv2D(64, (3, 3)))\n",
    "cnn.add(Activation('relu'))\n",
    "cnn.add(MaxPooling2D(pool_size=(2, 2)))\n",
    "cnn.add(BatchNormalization())\n",
    "\n",
    "cnn.add(Flatten())\n",
    "\n",
    "cnn.add(Dense(512))\n",
    "cnn.add(Activation('relu'))\n",
    "cnn.add(Dropout(0.5))\n",
    "\n",
    "cnn.add(Dense(12, activation='sigmoid'))"
   ]
  },
  {
   "cell_type": "code",
   "execution_count": 26,
   "id": "396b83fd",
   "metadata": {},
   "outputs": [
    {
     "name": "stdout",
     "output_type": "stream",
     "text": [
      "Model: \"sequential\"\n",
      "_________________________________________________________________\n",
      "Layer (type)                 Output Shape              Param #   \n",
      "=================================================================\n",
      "conv2d (Conv2D)              (None, 100, 100, 32)      896       \n",
      "_________________________________________________________________\n",
      "activation (Activation)      (None, 100, 100, 32)      0         \n",
      "_________________________________________________________________\n",
      "max_pooling2d (MaxPooling2D) (None, 50, 50, 32)        0         \n",
      "_________________________________________________________________\n",
      "conv2d_1 (Conv2D)            (None, 48, 48, 32)        9248      \n",
      "_________________________________________________________________\n",
      "activation_1 (Activation)    (None, 48, 48, 32)        0         \n",
      "_________________________________________________________________\n",
      "max_pooling2d_1 (MaxPooling2 (None, 24, 24, 32)        0         \n",
      "_________________________________________________________________\n",
      "batch_normalization (BatchNo (None, 24, 24, 32)        128       \n",
      "_________________________________________________________________\n",
      "conv2d_2 (Conv2D)            (None, 24, 24, 64)        18496     \n",
      "_________________________________________________________________\n",
      "activation_2 (Activation)    (None, 24, 24, 64)        0         \n",
      "_________________________________________________________________\n",
      "max_pooling2d_2 (MaxPooling2 (None, 12, 12, 64)        0         \n",
      "_________________________________________________________________\n",
      "conv2d_3 (Conv2D)            (None, 10, 10, 64)        36928     \n",
      "_________________________________________________________________\n",
      "activation_3 (Activation)    (None, 10, 10, 64)        0         \n",
      "_________________________________________________________________\n",
      "max_pooling2d_3 (MaxPooling2 (None, 5, 5, 64)          0         \n",
      "_________________________________________________________________\n",
      "batch_normalization_1 (Batch (None, 5, 5, 64)          256       \n",
      "_________________________________________________________________\n",
      "flatten (Flatten)            (None, 1600)              0         \n",
      "_________________________________________________________________\n",
      "dense (Dense)                (None, 512)               819712    \n",
      "_________________________________________________________________\n",
      "activation_4 (Activation)    (None, 512)               0         \n",
      "_________________________________________________________________\n",
      "dropout (Dropout)            (None, 512)               0         \n",
      "_________________________________________________________________\n",
      "dense_1 (Dense)              (None, 12)                6156      \n",
      "=================================================================\n",
      "Total params: 891,820\n",
      "Trainable params: 891,628\n",
      "Non-trainable params: 192\n",
      "_________________________________________________________________\n"
     ]
    }
   ],
   "source": [
    "cnn.summary()"
   ]
  },
  {
   "cell_type": "code",
   "execution_count": 27,
   "id": "3b5e2610",
   "metadata": {},
   "outputs": [],
   "source": [
    "model = Sequential([encoder,cnn])"
   ]
  },
  {
   "cell_type": "code",
   "execution_count": 28,
   "id": "53f8da0d",
   "metadata": {},
   "outputs": [
    {
     "name": "stdout",
     "output_type": "stream",
     "text": [
      "Model: \"sequential_1\"\n",
      "_________________________________________________________________\n",
      "Layer (type)                 Output Shape              Param #   \n",
      "=================================================================\n",
      "sequential_7 (Sequential)    (None, 100, 100, 3)       931       \n",
      "_________________________________________________________________\n",
      "sequential (Sequential)      (None, 12)                891820    \n",
      "=================================================================\n",
      "Total params: 892,751\n",
      "Trainable params: 892,559\n",
      "Non-trainable params: 192\n",
      "_________________________________________________________________\n"
     ]
    }
   ],
   "source": [
    "model.summary()"
   ]
  },
  {
   "cell_type": "code",
   "execution_count": 29,
   "id": "d4edb492",
   "metadata": {},
   "outputs": [],
   "source": [
    "encoder.trainable = False"
   ]
  },
  {
   "cell_type": "code",
   "execution_count": 30,
   "id": "53c8864c",
   "metadata": {},
   "outputs": [],
   "source": [
    "model.compile(optimizer=\"adam\", loss=\"binary_crossentropy\", metrics=[\"accuracy\"])"
   ]
  },
  {
   "cell_type": "code",
   "execution_count": 31,
   "id": "cb7985de",
   "metadata": {},
   "outputs": [],
   "source": [
    "from tensorflow.keras.callbacks import EarlyStopping\n",
    "early_stop = EarlyStopping(monitor='val_loss',patience=3)"
   ]
  },
  {
   "cell_type": "code",
   "execution_count": 32,
   "id": "b2d3217b",
   "metadata": {},
   "outputs": [
    {
     "name": "stderr",
     "output_type": "stream",
     "text": [
      "C:\\Users\\91882\\anaconda3\\envs\\gputest\\lib\\site-packages\\keras\\engine\\training.py:1972: UserWarning: `Model.fit_generator` is deprecated and will be removed in a future version. Please use `Model.fit`, which supports generators.\n",
      "  warnings.warn('`Model.fit_generator` is deprecated and '\n"
     ]
    },
    {
     "name": "stdout",
     "output_type": "stream",
     "text": [
      "Epoch 1/25\n",
      "368/368 [==============================] - 142s 367ms/step - loss: 0.4500 - accuracy: 0.0988 - val_loss: 0.3912 - val_accuracy: 0.0741\n",
      "Epoch 2/25\n",
      "368/368 [==============================] - 137s 371ms/step - loss: 0.3849 - accuracy: 0.1148 - val_loss: 0.4734 - val_accuracy: 0.0796\n",
      "Epoch 3/25\n",
      "368/368 [==============================] - 134s 364ms/step - loss: 0.3678 - accuracy: 0.1425 - val_loss: 0.3832 - val_accuracy: 0.0980\n",
      "Epoch 4/25\n",
      "368/368 [==============================] - 133s 360ms/step - loss: 0.3583 - accuracy: 0.1554 - val_loss: 0.4298 - val_accuracy: 0.0755\n",
      "Epoch 5/25\n",
      "368/368 [==============================] - 133s 361ms/step - loss: 0.3470 - accuracy: 0.1714 - val_loss: 0.3741 - val_accuracy: 0.0694\n",
      "Epoch 6/25\n",
      "368/368 [==============================] - 147s 400ms/step - loss: 0.3375 - accuracy: 0.1917 - val_loss: 0.5074 - val_accuracy: 0.0952\n",
      "Epoch 7/25\n",
      "368/368 [==============================] - 134s 364ms/step - loss: 0.3302 - accuracy: 0.2157 - val_loss: 0.4030 - val_accuracy: 0.1054\n",
      "Epoch 8/25\n",
      "368/368 [==============================] - 134s 364ms/step - loss: 0.3231 - accuracy: 0.2306 - val_loss: 0.4255 - val_accuracy: 0.1007\n",
      "Epoch 9/25\n",
      "368/368 [==============================] - 133s 361ms/step - loss: 0.3209 - accuracy: 0.2337 - val_loss: 0.8233 - val_accuracy: 0.0898\n",
      "Epoch 10/25\n",
      "368/368 [==============================] - 132s 360ms/step - loss: 0.3135 - accuracy: 0.2407 - val_loss: 0.7657 - val_accuracy: 0.0959\n",
      "Epoch 11/25\n",
      "368/368 [==============================] - 132s 358ms/step - loss: 0.3113 - accuracy: 0.2614 - val_loss: 0.4590 - val_accuracy: 0.0959\n",
      "Epoch 12/25\n",
      "368/368 [==============================] - 131s 355ms/step - loss: 0.3025 - accuracy: 0.2692 - val_loss: 0.4454 - val_accuracy: 0.1327\n",
      "Epoch 13/25\n",
      "368/368 [==============================] - 132s 359ms/step - loss: 0.2973 - accuracy: 0.2857 - val_loss: 0.5852 - val_accuracy: 0.0905\n",
      "Epoch 14/25\n",
      "368/368 [==============================] - 132s 358ms/step - loss: 0.2938 - accuracy: 0.2845 - val_loss: 0.4982 - val_accuracy: 0.0973\n",
      "Epoch 15/25\n",
      "368/368 [==============================] - 132s 358ms/step - loss: 0.2900 - accuracy: 0.3076 - val_loss: 0.4801 - val_accuracy: 0.0918\n",
      "Epoch 16/25\n",
      "368/368 [==============================] - 132s 359ms/step - loss: 0.2864 - accuracy: 0.3174 - val_loss: 0.6164 - val_accuracy: 0.0878\n",
      "Epoch 17/25\n",
      "368/368 [==============================] - 133s 362ms/step - loss: 0.2813 - accuracy: 0.3290 - val_loss: 0.5153 - val_accuracy: 0.0844\n",
      "Epoch 18/25\n",
      "368/368 [==============================] - 132s 359ms/step - loss: 0.2766 - accuracy: 0.3341 - val_loss: 0.4537 - val_accuracy: 0.0871\n",
      "Epoch 19/25\n",
      "368/368 [==============================] - 135s 366ms/step - loss: 0.2741 - accuracy: 0.3414 - val_loss: 0.4383 - val_accuracy: 0.1041\n",
      "Epoch 20/25\n",
      "368/368 [==============================] - 133s 362ms/step - loss: 0.2692 - accuracy: 0.3607 - val_loss: 1.0680 - val_accuracy: 0.1007\n",
      "Epoch 21/25\n",
      "368/368 [==============================] - 136s 370ms/step - loss: 0.2652 - accuracy: 0.3713 - val_loss: 0.6955 - val_accuracy: 0.0844\n",
      "Epoch 22/25\n",
      "368/368 [==============================] - 153s 415ms/step - loss: 0.2607 - accuracy: 0.3871 - val_loss: 0.4508 - val_accuracy: 0.1361\n",
      "Epoch 23/25\n",
      "368/368 [==============================] - 146s 397ms/step - loss: 0.2540 - accuracy: 0.3888 - val_loss: 0.4575 - val_accuracy: 0.1442\n",
      "Epoch 24/25\n",
      "368/368 [==============================] - 137s 373ms/step - loss: 0.2498 - accuracy: 0.3995 - val_loss: 0.4437 - val_accuracy: 0.1061\n",
      "Epoch 25/25\n",
      "368/368 [==============================] - 138s 374ms/step - loss: 0.2490 - accuracy: 0.4120 - val_loss: 0.4994 - val_accuracy: 0.1061\n"
     ]
    },
    {
     "data": {
      "text/plain": [
       "<keras.callbacks.History at 0x260b37c1320>"
      ]
     },
     "execution_count": 32,
     "metadata": {},
     "output_type": "execute_result"
    }
   ],
   "source": [
    "model.fit_generator(generator=training_gen,epochs=25,validation_data=testing_gen)"
   ]
  },
  {
   "cell_type": "code",
   "execution_count": 33,
   "id": "4f43b5b7",
   "metadata": {},
   "outputs": [],
   "source": [
    "one_img = testing_gen.next()[1]"
   ]
  },
  {
   "cell_type": "code",
   "execution_count": 34,
   "id": "16fe4201",
   "metadata": {},
   "outputs": [
    {
     "data": {
      "text/plain": [
       "(16, 12)"
      ]
     },
     "execution_count": 34,
     "metadata": {},
     "output_type": "execute_result"
    }
   ],
   "source": [
    "one_img.shape"
   ]
  },
  {
   "cell_type": "code",
   "execution_count": null,
   "id": "abc7f17b",
   "metadata": {},
   "outputs": [],
   "source": []
  }
 ],
 "metadata": {
  "kernelspec": {
   "display_name": "gputest",
   "language": "python",
   "name": "gputest"
  },
  "language_info": {
   "codemirror_mode": {
    "name": "ipython",
    "version": 3
   },
   "file_extension": ".py",
   "mimetype": "text/x-python",
   "name": "python",
   "nbconvert_exporter": "python",
   "pygments_lexer": "ipython3",
   "version": "3.6.13"
  }
 },
 "nbformat": 4,
 "nbformat_minor": 5
}
